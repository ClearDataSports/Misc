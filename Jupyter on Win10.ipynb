{
 "cells": [
  {
   "cell_type": "markdown",
   "metadata": {},
   "source": [
    "### Installing Jupyter on Win10\n",
    "\n",
    "Least painful way to installa and configure Python, R and Jupyter on a Windows 10 workstation.\n",
    "\n",
    "(most of this was gleaned from https://www.youtube.com/watch?time_continue=209&v=SXBxKe8sK6I)"
   ]
  },
  {
   "cell_type": "markdown",
   "metadata": {},
   "source": [
    "***\n",
    "Here's a quick Command Prompt reference list.  To execute a command press the Enter key after you type the command.\n",
    " * **_driveletter_ :**  Change to a different drive by typing the drive letter and a colon.\n",
    " * ** cd .. **  Go up one directory.\n",
    " * ** cd _folder name_ ** Go into a folder.  Note that names that contain spaces are typed normall.\n",
    " \n",
    " "
   ]
  },
  {
   "cell_type": "markdown",
   "metadata": {},
   "source": [
    "*****\n",
    "\n",
    "1. Download and Install Anaconda.  Be sure to pick the 3.* version of Python.  Also, note which hard drive and folder you installed it on (c:\\anaconda is recommended) https://www.anaconda.com/download/\n",
    "2. Get to the Anaconda folder using the command line.\n",
    " * Press the Windows Key + R, type in \"cmd\" and press Enter.\n",
    " * Get to the drive where you installed Anaconda.  To change drives type in the drive letter followed by a colon.  i.e.  e:\n",
    " * Get to the root folder.  To navigate up a directory use the command \"cd\" followed by a space and 2 periods.  i.e. cd ..  Do this until you can't go up any further\n",
    " * Get to the Anaconda folder.  To change a directory use the command \"cd\" followed by a space and then the folder name.  i.e. cd anaconda\n",
    " * Get to the scripts folder under the Anaconda folder.  cd scripts\n",
    "3. Install R and R Essentials.  This might take a long while to install on slower machines.\n",
    " * Type in the following once you are in Anaconda\\Scripts (use all lower case):  conda install -c r r-essentials     \n",
    " * You should be getting informational messages telling you what package is being installed.  You'll know it's done when you can type something into the command prompt.\n",
    "4. Run Jupyter\n",
    " * Press the Windows Key + S and type in Jupyter and press Enter.  It might take a little while to spin up, but it should launch into your browser.\n",
    "5. Validate R Kernel is installed.\n",
    " * Click on the \"New\" drop down list in the upper right corner.  You should see Notebook options for Python 3 and R.\n",
    "\n",
    " \n",
    " \n",
    "\n",
    "\n"
   ]
  }
 ],
 "metadata": {
  "kernelspec": {
   "display_name": "R",
   "language": "R",
   "name": "ir"
  },
  "language_info": {
   "codemirror_mode": "r",
   "file_extension": ".r",
   "mimetype": "text/x-r-source",
   "name": "R",
   "pygments_lexer": "r",
   "version": "3.3.2"
  }
 },
 "nbformat": 4,
 "nbformat_minor": 2
}
