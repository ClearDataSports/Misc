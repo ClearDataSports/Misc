{
 "cells": [
  {
   "cell_type": "markdown",
   "metadata": {},
   "source": [
    "### Risk Size in Normal Distribution"
   ]
  },
  {
   "cell_type": "code",
   "execution_count": 155,
   "metadata": {},
   "outputs": [
    {
     "name": "stdout",
     "output_type": "stream",
     "text": [
      "[1] \"Coin\"\n"
     ]
    },
    {
     "data": {
      "text/html": [
       "<ol class=list-inline>\n",
       "\t<li>0.47605</li>\n",
       "\t<li>0.52395</li>\n",
       "</ol>\n"
      ],
      "text/latex": [
       "\\begin{enumerate*}\n",
       "\\item 0.47605\n",
       "\\item 0.52395\n",
       "\\end{enumerate*}\n"
      ],
      "text/markdown": [
       "1. 0.47605\n",
       "2. 0.52395\n",
       "\n",
       "\n"
      ],
      "text/plain": [
       "[1] 0.47605 0.52395"
      ]
     },
     "metadata": {},
     "output_type": "display_data"
    },
    {
     "name": "stdout",
     "output_type": "stream",
     "text": [
      "[1] \"Bets Placed\"\n"
     ]
    },
    {
     "data": {
      "text/html": [
       "768"
      ],
      "text/latex": [
       "768"
      ],
      "text/markdown": [
       "768"
      ],
      "text/plain": [
       "[1] 768"
      ]
     },
     "metadata": {},
     "output_type": "display_data"
    },
    {
     "name": "stdout",
     "output_type": "stream",
     "text": [
      "[1] \"Total Units Won\"\n"
     ]
    },
    {
     "data": {
      "text/html": [
       "8"
      ],
      "text/latex": [
       "8"
      ],
      "text/markdown": [
       "8"
      ],
      "text/plain": [
       "[1] 8"
      ]
     },
     "metadata": {},
     "output_type": "display_data"
    }
   ],
   "source": [
    "# Set up our initial variables.\n",
    "win_pct <- 52.395  # Overall Winning Percentage\n",
    "total_wagers <- 32 * 16 * 1.5  # Total Teams * Games Per Team * Average Bets Per Game\n",
    "starting_book <- 1000.00  # Start the season w/ $1000.00\n",
    "risk_size <- 1.0  # How much of our total book are we willing to risk per bet, as a percentage.\n",
    "\n",
    "# Set up our coin using the weights from our winning percentage\n",
    "my.coin <- c(1 - (win_pct / 100), win_pct / 100)\n",
    "print(\"Coin\")\n",
    "my.coin\n",
    "\n",
    "# Set up the potential outcome of a bet.  Assuming Bet 1 to win 1 on dogs, bet 1 on fav's.\n",
    "# Adjust the result to more accurately reflect your +EV.\n",
    "potential_unit_result <- c(-1, 1)\n",
    "rslt <- sample(potential_unit_result, size=total_wagers, prob=my.coin, replace=T)\n",
    "\n",
    "#Print out the initial items.\n",
    "print(\"Bets Placed\")\n",
    "total_wagers\n",
    "print(\"Total Units Won\")\n",
    "sum(rslt)\n",
    "\n"
   ]
  },
  {
   "cell_type": "markdown",
   "metadata": {},
   "source": [
    "***\n",
    "#### Betting Function\n",
    "Create the various functions that will iterate through our betting result units and place those bets according to our money management system.\n"
   ]
  },
  {
   "cell_type": "code",
   "execution_count": 151,
   "metadata": {},
   "outputs": [],
   "source": [
    "bet.percent_of_book <- function(unit_result, risk_percent, book) {\n",
    "    bet_amount <- book * risk_percent / 100\n",
    "    return (unit_result * bet_amount)\n",
    "}\n"
   ]
  },
  {
   "cell_type": "markdown",
   "metadata": {},
   "source": [
    "***\n",
    "#### Place the Bets!\n",
    "\n",
    "Iterate through each bet and calculate the result \n"
   ]
  },
  {
   "cell_type": "code",
   "execution_count": 156,
   "metadata": {},
   "outputs": [
    {
     "name": "stdout",
     "output_type": "stream",
     "text": [
      "[1] \"Lowest Draw Down\"\n"
     ]
    },
    {
     "data": {
      "text/html": [
       "852.61"
      ],
      "text/latex": [
       "852.61"
      ],
      "text/markdown": [
       "852.61"
      ],
      "text/plain": [
       "[1] 852.61"
      ]
     },
     "metadata": {},
     "output_type": "display_data"
    },
    {
     "name": "stdout",
     "output_type": "stream",
     "text": [
      "[1] \"Largest Book Size\"\n"
     ]
    },
    {
     "data": {
      "text/html": [
       "1249.08"
      ],
      "text/latex": [
       "1249.08"
      ],
      "text/markdown": [
       "1249.08"
      ],
      "text/plain": [
       "[1] 1249.08"
      ]
     },
     "metadata": {},
     "output_type": "display_data"
    },
    {
     "name": "stdout",
     "output_type": "stream",
     "text": [
      "[1] \"Season End Book Size\"\n"
     ]
    },
    {
     "data": {
      "text/html": [
       "1042.48"
      ],
      "text/latex": [
       "1042.48"
      ],
      "text/markdown": [
       "1042.48"
      ],
      "text/plain": [
       "[1] 1042.48"
      ]
     },
     "metadata": {},
     "output_type": "display_data"
    },
    {
     "data": {
      "text/html": [
       "'104 %'"
      ],
      "text/latex": [
       "'104 \\%'"
      ],
      "text/markdown": [
       "'104 %'"
      ],
      "text/plain": [
       "[1] \"104 %\""
      ]
     },
     "metadata": {},
     "output_type": "display_data"
    }
   ],
   "source": [
    "book_result <- starting_book\n",
    "min_result <- starting_book\n",
    "max_result <- starting_book\n",
    "book_history <- c(1:length(rslt))\n",
    "\n",
    "for(i in seq(rslt)) {\n",
    "    book_result <- book_result + bet.percent_of_book(rslt[i], risk_size, book_result)\n",
    "    book_history[i] <- book_result\n",
    "    if (book_result < min_result){min_result <- book_result}\n",
    "    if (book_result > max_result){max_result <- book_result}\n",
    "    }\n",
    "\n",
    "print(\"Lowest Draw Down\")\n",
    "round(min_result,2)\n",
    "\n",
    "print(\"Largest Book Size\")\n",
    "round(max_result, 2)\n",
    "\n",
    "print(\"Season End Book Size\")\n",
    "round(book_result, 2)\n",
    "paste(round(book_result / starting_book, 2) * 100.0 , \"%\")\n"
   ]
  },
  {
   "cell_type": "markdown",
   "metadata": {},
   "source": [
    "***\n",
    "#### Graph the Results\n",
    "\n",
    "Graph the book size history and unit size history.  \n",
    "You can refresh the page to generate new results."
   ]
  },
  {
   "cell_type": "code",
   "execution_count": 153,
   "metadata": {},
   "outputs": [
    {
     "data": {
      "image/png": "[encoded data removed]",
      "text/plain": [
       "Plot with title \"Book Size History\""
      ]
     },
     "metadata": {},
     "output_type": "display_data",
     "source": "R display func"
    },
    {
     "data": {
      "image/png": "[encoded data removed]",
      "text/plain": [
       "Plot with title \"Units Won History\""
      ]
     },
     "metadata": {},
     "output_type": "display_data",
     "source": "R display func"
    }
   ],
   "source": [
    "units_sum = c(0, cumsum(rslt))[1:length(rslt)]\n",
    "\n",
    "plot(book_history, type=\"l\", col=\"blue\", main=\"Book Size History\")\n",
    "plot(units_sum, type=\"l\", col=\"black\", main=\"Units Won History\")"
   ]
  }
 ],
 "metadata": {
  "kernelspec": {
   "display_name": "R",
   "language": "R",
   "name": "ir"
  },
  "language_info": {
   "codemirror_mode": "r",
   "file_extension": ".r",
   "mimetype": "text/x-r-source",
   "name": "R",
   "pygments_lexer": "r",
   "version": "3.3.2"
  }
 },
 "nbformat": 4,
 "nbformat_minor": 2
}
